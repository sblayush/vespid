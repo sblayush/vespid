{
 "cells": [
  {
   "cell_type": "code",
   "execution_count": 29,
   "metadata": {},
   "outputs": [],
   "source": [
    "import pandas as pd\n",
    "import re\n",
    "import numpy as np\n",
    "import json\n",
    "from datetime import datetime\n",
    "import matplotlib.pyplot as plt"
   ]
  },
  {
   "cell_type": "code",
   "execution_count": 30,
   "metadata": {},
   "outputs": [],
   "source": [
    "RE_SPACE = re.compile(r'[\\s]+')"
   ]
  },
  {
   "cell_type": "code",
   "execution_count": 31,
   "metadata": {},
   "outputs": [],
   "source": [
    "path = \"../test_data/test1\""
   ]
  },
  {
   "cell_type": "code",
   "execution_count": 32,
   "metadata": {},
   "outputs": [],
   "source": [
    "df = pd.read_csv(path+\"/test1_stats_history.csv\")"
   ]
  },
  {
   "cell_type": "code",
   "execution_count": 33,
   "metadata": {},
   "outputs": [
    {
     "data": {
      "text/plain": [
       "Index(['Timestamp', 'User Count', 'Type', 'Name', 'Requests/s', 'Failures/s',\n",
       "       '50%', '66%', '75%', '80%', '90%', '95%', '98%', '99%', '99.9%',\n",
       "       '99.99%', '100%', 'Total Request Count', 'Total Failure Count',\n",
       "       'Total Median Response Time', 'Total Average Response Time',\n",
       "       'Total Min Response Time', 'Total Max Response Time',\n",
       "       'Total Average Content Size'],\n",
       "      dtype='object')"
      ]
     },
     "execution_count": 33,
     "metadata": {},
     "output_type": "execute_result"
    }
   ],
   "source": [
    "df.columns"
   ]
  },
  {
   "cell_type": "code",
   "execution_count": 34,
   "metadata": {},
   "outputs": [],
   "source": [
    "columns = ['Timestamp', 'Name', 'Requests/s', 'Total Average Response Time']"
   ]
  },
  {
   "cell_type": "code",
   "execution_count": 35,
   "metadata": {},
   "outputs": [],
   "source": [
    "df = df[columns]"
   ]
  },
  {
   "cell_type": "code",
   "execution_count": 36,
   "metadata": {},
   "outputs": [
    {
     "data": {
      "text/html": [
       "<div>\n",
       "<style scoped>\n",
       "    .dataframe tbody tr th:only-of-type {\n",
       "        vertical-align: middle;\n",
       "    }\n",
       "\n",
       "    .dataframe tbody tr th {\n",
       "        vertical-align: top;\n",
       "    }\n",
       "\n",
       "    .dataframe thead th {\n",
       "        text-align: right;\n",
       "    }\n",
       "</style>\n",
       "<table border=\"1\" class=\"dataframe\">\n",
       "  <thead>\n",
       "    <tr style=\"text-align: right;\">\n",
       "      <th></th>\n",
       "      <th>Timestamp</th>\n",
       "      <th>Name</th>\n",
       "      <th>Requests/s</th>\n",
       "      <th>Total Average Response Time</th>\n",
       "    </tr>\n",
       "  </thead>\n",
       "  <tbody>\n",
       "    <tr>\n",
       "      <th>0</th>\n",
       "      <td>1638407231</td>\n",
       "      <td>Aggregated</td>\n",
       "      <td>0.0</td>\n",
       "      <td>0.000000</td>\n",
       "    </tr>\n",
       "    <tr>\n",
       "      <th>1</th>\n",
       "      <td>1638407232</td>\n",
       "      <td>Aggregated</td>\n",
       "      <td>0.0</td>\n",
       "      <td>0.000000</td>\n",
       "    </tr>\n",
       "    <tr>\n",
       "      <th>2</th>\n",
       "      <td>1638407233</td>\n",
       "      <td>Aggregated</td>\n",
       "      <td>0.0</td>\n",
       "      <td>0.000000</td>\n",
       "    </tr>\n",
       "    <tr>\n",
       "      <th>3</th>\n",
       "      <td>1638407234</td>\n",
       "      <td>Aggregated</td>\n",
       "      <td>0.0</td>\n",
       "      <td>0.000000</td>\n",
       "    </tr>\n",
       "    <tr>\n",
       "      <th>4</th>\n",
       "      <td>1638407235</td>\n",
       "      <td>Aggregated</td>\n",
       "      <td>0.0</td>\n",
       "      <td>0.000000</td>\n",
       "    </tr>\n",
       "    <tr>\n",
       "      <th>...</th>\n",
       "      <td>...</td>\n",
       "      <td>...</td>\n",
       "      <td>...</td>\n",
       "      <td>...</td>\n",
       "    </tr>\n",
       "    <tr>\n",
       "      <th>1491</th>\n",
       "      <td>1638407612</td>\n",
       "      <td>Aggregated</td>\n",
       "      <td>2.9</td>\n",
       "      <td>45.638680</td>\n",
       "    </tr>\n",
       "    <tr>\n",
       "      <th>1492</th>\n",
       "      <td>1638407613</td>\n",
       "      <td>/actions/fib_c/invoke</td>\n",
       "      <td>1.1</td>\n",
       "      <td>51.302963</td>\n",
       "    </tr>\n",
       "    <tr>\n",
       "      <th>1493</th>\n",
       "      <td>1638407613</td>\n",
       "      <td>/actions/fib_cn/invoke</td>\n",
       "      <td>1.1</td>\n",
       "      <td>43.629805</td>\n",
       "    </tr>\n",
       "    <tr>\n",
       "      <th>1494</th>\n",
       "      <td>1638407613</td>\n",
       "      <td>/ping</td>\n",
       "      <td>0.7</td>\n",
       "      <td>38.391510</td>\n",
       "    </tr>\n",
       "    <tr>\n",
       "      <th>1495</th>\n",
       "      <td>1638407613</td>\n",
       "      <td>Aggregated</td>\n",
       "      <td>2.9</td>\n",
       "      <td>45.638680</td>\n",
       "    </tr>\n",
       "  </tbody>\n",
       "</table>\n",
       "<p>1496 rows × 4 columns</p>\n",
       "</div>"
      ],
      "text/plain": [
       "       Timestamp                    Name  Requests/s  \\\n",
       "0     1638407231              Aggregated         0.0   \n",
       "1     1638407232              Aggregated         0.0   \n",
       "2     1638407233              Aggregated         0.0   \n",
       "3     1638407234              Aggregated         0.0   \n",
       "4     1638407235              Aggregated         0.0   \n",
       "...          ...                     ...         ...   \n",
       "1491  1638407612              Aggregated         2.9   \n",
       "1492  1638407613   /actions/fib_c/invoke         1.1   \n",
       "1493  1638407613  /actions/fib_cn/invoke         1.1   \n",
       "1494  1638407613                   /ping         0.7   \n",
       "1495  1638407613              Aggregated         2.9   \n",
       "\n",
       "      Total Average Response Time  \n",
       "0                        0.000000  \n",
       "1                        0.000000  \n",
       "2                        0.000000  \n",
       "3                        0.000000  \n",
       "4                        0.000000  \n",
       "...                           ...  \n",
       "1491                    45.638680  \n",
       "1492                    51.302963  \n",
       "1493                    43.629805  \n",
       "1494                    38.391510  \n",
       "1495                    45.638680  \n",
       "\n",
       "[1496 rows x 4 columns]"
      ]
     },
     "execution_count": 36,
     "metadata": {},
     "output_type": "execute_result"
    }
   ],
   "source": [
    "df"
   ]
  },
  {
   "cell_type": "code",
   "execution_count": 37,
   "metadata": {},
   "outputs": [],
   "source": [
    "df = df[df['Total Average Response Time'] >0]\n",
    "df = df[df['Name'] != \"Aggregated\"]\n",
    "df['Action'] = df.apply(lambda row: row.x + row.y, axis=1)"
   ]
  },
  {
   "cell_type": "code",
   "execution_count": 38,
   "metadata": {},
   "outputs": [
    {
     "data": {
      "text/html": [
       "<div>\n",
       "<style scoped>\n",
       "    .dataframe tbody tr th:only-of-type {\n",
       "        vertical-align: middle;\n",
       "    }\n",
       "\n",
       "    .dataframe tbody tr th {\n",
       "        vertical-align: top;\n",
       "    }\n",
       "\n",
       "    .dataframe thead th {\n",
       "        text-align: right;\n",
       "    }\n",
       "</style>\n",
       "<table border=\"1\" class=\"dataframe\">\n",
       "  <thead>\n",
       "    <tr style=\"text-align: right;\">\n",
       "      <th></th>\n",
       "      <th>Timestamp</th>\n",
       "      <th>Name</th>\n",
       "      <th>Requests/s</th>\n",
       "      <th>Total Average Response Time</th>\n",
       "    </tr>\n",
       "  </thead>\n",
       "  <tbody>\n",
       "    <tr>\n",
       "      <th>8</th>\n",
       "      <td>1638407239</td>\n",
       "      <td>/actions/fib_cn/invoke</td>\n",
       "      <td>0.0</td>\n",
       "      <td>75.404300</td>\n",
       "    </tr>\n",
       "    <tr>\n",
       "      <th>10</th>\n",
       "      <td>1638407240</td>\n",
       "      <td>/actions/fib_c/invoke</td>\n",
       "      <td>0.0</td>\n",
       "      <td>37.341400</td>\n",
       "    </tr>\n",
       "    <tr>\n",
       "      <th>11</th>\n",
       "      <td>1638407240</td>\n",
       "      <td>/actions/fib_cn/invoke</td>\n",
       "      <td>0.0</td>\n",
       "      <td>64.467800</td>\n",
       "    </tr>\n",
       "    <tr>\n",
       "      <th>13</th>\n",
       "      <td>1638407241</td>\n",
       "      <td>/actions/fib_c/invoke</td>\n",
       "      <td>0.0</td>\n",
       "      <td>56.055450</td>\n",
       "    </tr>\n",
       "    <tr>\n",
       "      <th>14</th>\n",
       "      <td>1638407241</td>\n",
       "      <td>/actions/fib_cn/invoke</td>\n",
       "      <td>0.0</td>\n",
       "      <td>48.049750</td>\n",
       "    </tr>\n",
       "    <tr>\n",
       "      <th>...</th>\n",
       "      <td>...</td>\n",
       "      <td>...</td>\n",
       "      <td>...</td>\n",
       "      <td>...</td>\n",
       "    </tr>\n",
       "    <tr>\n",
       "      <th>1489</th>\n",
       "      <td>1638407612</td>\n",
       "      <td>/actions/fib_cn/invoke</td>\n",
       "      <td>1.1</td>\n",
       "      <td>43.629805</td>\n",
       "    </tr>\n",
       "    <tr>\n",
       "      <th>1490</th>\n",
       "      <td>1638407612</td>\n",
       "      <td>/ping</td>\n",
       "      <td>0.7</td>\n",
       "      <td>38.391510</td>\n",
       "    </tr>\n",
       "    <tr>\n",
       "      <th>1492</th>\n",
       "      <td>1638407613</td>\n",
       "      <td>/actions/fib_c/invoke</td>\n",
       "      <td>1.1</td>\n",
       "      <td>51.302963</td>\n",
       "    </tr>\n",
       "    <tr>\n",
       "      <th>1493</th>\n",
       "      <td>1638407613</td>\n",
       "      <td>/actions/fib_cn/invoke</td>\n",
       "      <td>1.1</td>\n",
       "      <td>43.629805</td>\n",
       "    </tr>\n",
       "    <tr>\n",
       "      <th>1494</th>\n",
       "      <td>1638407613</td>\n",
       "      <td>/ping</td>\n",
       "      <td>0.7</td>\n",
       "      <td>38.391510</td>\n",
       "    </tr>\n",
       "  </tbody>\n",
       "</table>\n",
       "<p>1115 rows × 4 columns</p>\n",
       "</div>"
      ],
      "text/plain": [
       "       Timestamp                    Name  Requests/s  \\\n",
       "8     1638407239  /actions/fib_cn/invoke         0.0   \n",
       "10    1638407240   /actions/fib_c/invoke         0.0   \n",
       "11    1638407240  /actions/fib_cn/invoke         0.0   \n",
       "13    1638407241   /actions/fib_c/invoke         0.0   \n",
       "14    1638407241  /actions/fib_cn/invoke         0.0   \n",
       "...          ...                     ...         ...   \n",
       "1489  1638407612  /actions/fib_cn/invoke         1.1   \n",
       "1490  1638407612                   /ping         0.7   \n",
       "1492  1638407613   /actions/fib_c/invoke         1.1   \n",
       "1493  1638407613  /actions/fib_cn/invoke         1.1   \n",
       "1494  1638407613                   /ping         0.7   \n",
       "\n",
       "      Total Average Response Time  \n",
       "8                       75.404300  \n",
       "10                      37.341400  \n",
       "11                      64.467800  \n",
       "13                      56.055450  \n",
       "14                      48.049750  \n",
       "...                           ...  \n",
       "1489                    43.629805  \n",
       "1490                    38.391510  \n",
       "1492                    51.302963  \n",
       "1493                    43.629805  \n",
       "1494                    38.391510  \n",
       "\n",
       "[1115 rows x 4 columns]"
      ]
     },
     "execution_count": 38,
     "metadata": {},
     "output_type": "execute_result"
    }
   ],
   "source": [
    "df"
   ]
  },
  {
   "cell_type": "code",
   "execution_count": 39,
   "metadata": {},
   "outputs": [
    {
     "name": "stdout",
     "output_type": "stream",
     "text": [
      "2010-09-10 06:51:25\n"
     ]
    }
   ],
   "source": [
    "ts = int('1284101485')\n",
    "print(datetime.utcfromtimestamp(ts).strftime('%Y-%m-%d %H:%M:%S'))"
   ]
  },
  {
   "cell_type": "code",
   "execution_count": 41,
   "metadata": {},
   "outputs": [],
   "source": [
    "df1 = df"
   ]
  },
  {
   "cell_type": "code",
   "execution_count": 42,
   "metadata": {},
   "outputs": [
    {
     "data": {
      "text/plain": [
       "Name\n",
       "/actions/fib_c/invoke     AxesSubplot(0.125,0.125;0.775x0.755)\n",
       "/actions/fib_cn/invoke    AxesSubplot(0.125,0.125;0.775x0.755)\n",
       "/ping                     AxesSubplot(0.125,0.125;0.775x0.755)\n",
       "Name: Total Average Response Time, dtype: object"
      ]
     },
     "execution_count": 42,
     "metadata": {},
     "output_type": "execute_result"
    },
    {
     "data": {
      "image/png": "[encoded data removed]",
      "text/plain": [
       "<Figure size 432x288 with 1 Axes>"
      ]
     },
     "metadata": {
      "needs_background": "light"
     },
     "output_type": "display_data"
    }
   ],
   "source": [
    "df1.set_index('Timestamp', inplace=True)\n",
    "df1.groupby('Name')['Total Average Response Time'].plot(legend=True)"
   ]
  },
  {
   "cell_type": "code",
   "execution_count": null,
   "metadata": {},
   "outputs": [],
   "source": []
  },
  {
   "cell_type": "code",
   "execution_count": 43,
   "metadata": {},
   "outputs": [],
   "source": [
    "groupd = df1.groupby('Name')"
   ]
  },
  {
   "cell_type": "code",
   "execution_count": 45,
   "metadata": {},
   "outputs": [
    {
     "name": "stdout",
     "output_type": "stream",
     "text": [
      "                             Name  Requests/s  Total Average Response Time\n",
      "Timestamp                                                                 \n",
      "1638407240  /actions/fib_c/invoke    0.000000                    37.341400\n",
      "1638407241  /actions/fib_c/invoke    0.000000                    56.055450\n",
      "1638407242  /actions/fib_c/invoke    0.000000                    56.055450\n",
      "1638407243  /actions/fib_c/invoke    0.500000                    50.660160\n",
      "1638407244  /actions/fib_c/invoke    0.666667                    48.515029\n",
      "...                           ...         ...                          ...\n",
      "1638407609  /actions/fib_c/invoke    1.100000                    51.302963\n",
      "1638407610  /actions/fib_c/invoke    1.100000                    51.302963\n",
      "1638407611  /actions/fib_c/invoke    1.100000                    51.302963\n",
      "1638407612  /actions/fib_c/invoke    1.100000                    51.302963\n",
      "1638407613  /actions/fib_c/invoke    1.100000                    51.302963\n",
      "\n",
      "[372 rows x 3 columns]\n"
     ]
    }
   ],
   "source": [
    "for name, grp in groupd:\n",
    "    print(grp)\n",
    "    break"
   ]
  },
  {
   "cell_type": "code",
   "execution_count": 48,
   "metadata": {},
   "outputs": [],
   "source": [
    "diff = groupd.get_group('/ping')['Total Average Response Time']"
   ]
  },
  {
   "cell_type": "code",
   "execution_count": 51,
   "metadata": {},
   "outputs": [
    {
     "data": {
      "text/plain": [
       "Timestamp\n",
       "1638407242    34.97510\n",
       "1638407243    34.97510\n",
       "1638407244    34.97510\n",
       "1638407245    34.97510\n",
       "1638407246    33.45360\n",
       "                ...   \n",
       "1638407609    38.39151\n",
       "1638407610    38.39151\n",
       "1638407611    38.39151\n",
       "1638407612    38.39151\n",
       "1638407613    38.39151\n",
       "Name: Total Average Response Time, Length: 370, dtype: float64"
      ]
     },
     "execution_count": 51,
     "metadata": {},
     "output_type": "execute_result"
    }
   ],
   "source": [
    "diff"
   ]
  },
  {
   "cell_type": "code",
   "execution_count": 55,
   "metadata": {},
   "outputs": [],
   "source": [
    "d_native = groupd.get_group('/actions/fib_cn/invoke')\n",
    "d_c = groupd.get_group('/actions/fib_c/invoke')"
   ]
  },
  {
   "cell_type": "code",
   "execution_count": 58,
   "metadata": {},
   "outputs": [
    {
     "name": "stderr",
     "output_type": "stream",
     "text": [
      "<ipython-input-58-c909e66d7d5c>:1: SettingWithCopyWarning: \n",
      "A value is trying to be set on a copy of a slice from a DataFrame.\n",
      "Try using .loc[row_indexer,col_indexer] = value instead\n",
      "\n",
      "See the caveats in the documentation: https://pandas.pydata.org/pandas-docs/stable/user_guide/indexing.html#returning-a-view-versus-a-copy\n",
      "  d_native['Total Average Response Time'] = d_native['Total Average Response Time']-diff\n"
     ]
    }
   ],
   "source": [
    "d_native['Total Average Response Time'] = d_native['Total Average Response Time']-diff"
   ]
  },
  {
   "cell_type": "code",
   "execution_count": 59,
   "metadata": {},
   "outputs": [
    {
     "data": {
      "text/html": [
       "<div>\n",
       "<style scoped>\n",
       "    .dataframe tbody tr th:only-of-type {\n",
       "        vertical-align: middle;\n",
       "    }\n",
       "\n",
       "    .dataframe tbody tr th {\n",
       "        vertical-align: top;\n",
       "    }\n",
       "\n",
       "    .dataframe thead th {\n",
       "        text-align: right;\n",
       "    }\n",
       "</style>\n",
       "<table border=\"1\" class=\"dataframe\">\n",
       "  <thead>\n",
       "    <tr style=\"text-align: right;\">\n",
       "      <th></th>\n",
       "      <th>Name</th>\n",
       "      <th>Requests/s</th>\n",
       "      <th>Total Average Response Time</th>\n",
       "    </tr>\n",
       "    <tr>\n",
       "      <th>Timestamp</th>\n",
       "      <th></th>\n",
       "      <th></th>\n",
       "      <th></th>\n",
       "    </tr>\n",
       "  </thead>\n",
       "  <tbody>\n",
       "    <tr>\n",
       "      <th>1638407239</th>\n",
       "      <td>/actions/fib_cn/invoke</td>\n",
       "      <td>0.0</td>\n",
       "      <td>NaN</td>\n",
       "    </tr>\n",
       "    <tr>\n",
       "      <th>1638407240</th>\n",
       "      <td>/actions/fib_cn/invoke</td>\n",
       "      <td>0.0</td>\n",
       "      <td>NaN</td>\n",
       "    </tr>\n",
       "    <tr>\n",
       "      <th>1638407241</th>\n",
       "      <td>/actions/fib_cn/invoke</td>\n",
       "      <td>0.0</td>\n",
       "      <td>NaN</td>\n",
       "    </tr>\n",
       "    <tr>\n",
       "      <th>1638407242</th>\n",
       "      <td>/actions/fib_cn/invoke</td>\n",
       "      <td>1.0</td>\n",
       "      <td>8.545750</td>\n",
       "    </tr>\n",
       "    <tr>\n",
       "      <th>1638407243</th>\n",
       "      <td>/actions/fib_cn/invoke</td>\n",
       "      <td>1.0</td>\n",
       "      <td>8.545750</td>\n",
       "    </tr>\n",
       "    <tr>\n",
       "      <th>...</th>\n",
       "      <td>...</td>\n",
       "      <td>...</td>\n",
       "      <td>...</td>\n",
       "    </tr>\n",
       "    <tr>\n",
       "      <th>1638407609</th>\n",
       "      <td>/actions/fib_cn/invoke</td>\n",
       "      <td>1.1</td>\n",
       "      <td>5.238296</td>\n",
       "    </tr>\n",
       "    <tr>\n",
       "      <th>1638407610</th>\n",
       "      <td>/actions/fib_cn/invoke</td>\n",
       "      <td>1.1</td>\n",
       "      <td>5.238296</td>\n",
       "    </tr>\n",
       "    <tr>\n",
       "      <th>1638407611</th>\n",
       "      <td>/actions/fib_cn/invoke</td>\n",
       "      <td>1.1</td>\n",
       "      <td>5.238296</td>\n",
       "    </tr>\n",
       "    <tr>\n",
       "      <th>1638407612</th>\n",
       "      <td>/actions/fib_cn/invoke</td>\n",
       "      <td>1.1</td>\n",
       "      <td>5.238296</td>\n",
       "    </tr>\n",
       "    <tr>\n",
       "      <th>1638407613</th>\n",
       "      <td>/actions/fib_cn/invoke</td>\n",
       "      <td>1.1</td>\n",
       "      <td>5.238296</td>\n",
       "    </tr>\n",
       "  </tbody>\n",
       "</table>\n",
       "<p>373 rows × 3 columns</p>\n",
       "</div>"
      ],
      "text/plain": [
       "                              Name  Requests/s  Total Average Response Time\n",
       "Timestamp                                                                  \n",
       "1638407239  /actions/fib_cn/invoke         0.0                          NaN\n",
       "1638407240  /actions/fib_cn/invoke         0.0                          NaN\n",
       "1638407241  /actions/fib_cn/invoke         0.0                          NaN\n",
       "1638407242  /actions/fib_cn/invoke         1.0                     8.545750\n",
       "1638407243  /actions/fib_cn/invoke         1.0                     8.545750\n",
       "...                            ...         ...                          ...\n",
       "1638407609  /actions/fib_cn/invoke         1.1                     5.238296\n",
       "1638407610  /actions/fib_cn/invoke         1.1                     5.238296\n",
       "1638407611  /actions/fib_cn/invoke         1.1                     5.238296\n",
       "1638407612  /actions/fib_cn/invoke         1.1                     5.238296\n",
       "1638407613  /actions/fib_cn/invoke         1.1                     5.238296\n",
       "\n",
       "[373 rows x 3 columns]"
      ]
     },
     "execution_count": 59,
     "metadata": {},
     "output_type": "execute_result"
    }
   ],
   "source": [
    "d_native"
   ]
  },
  {
   "cell_type": "code",
   "execution_count": 60,
   "metadata": {},
   "outputs": [
    {
     "name": "stderr",
     "output_type": "stream",
     "text": [
      "<ipython-input-60-9d17ce03fff1>:1: SettingWithCopyWarning: \n",
      "A value is trying to be set on a copy of a slice from a DataFrame.\n",
      "Try using .loc[row_indexer,col_indexer] = value instead\n",
      "\n",
      "See the caveats in the documentation: https://pandas.pydata.org/pandas-docs/stable/user_guide/indexing.html#returning-a-view-versus-a-copy\n",
      "  d_c['Total Average Response Time'] = d_c['Total Average Response Time']-diff\n"
     ]
    }
   ],
   "source": [
    "d_c['Total Average Response Time'] = d_c['Total Average Response Time']-diff"
   ]
  },
  {
   "cell_type": "code",
   "execution_count": 61,
   "metadata": {},
   "outputs": [
    {
     "data": {
      "text/html": [
       "<div>\n",
       "<style scoped>\n",
       "    .dataframe tbody tr th:only-of-type {\n",
       "        vertical-align: middle;\n",
       "    }\n",
       "\n",
       "    .dataframe tbody tr th {\n",
       "        vertical-align: top;\n",
       "    }\n",
       "\n",
       "    .dataframe thead th {\n",
       "        text-align: right;\n",
       "    }\n",
       "</style>\n",
       "<table border=\"1\" class=\"dataframe\">\n",
       "  <thead>\n",
       "    <tr style=\"text-align: right;\">\n",
       "      <th></th>\n",
       "      <th>Name</th>\n",
       "      <th>Requests/s</th>\n",
       "      <th>Total Average Response Time</th>\n",
       "    </tr>\n",
       "    <tr>\n",
       "      <th>Timestamp</th>\n",
       "      <th></th>\n",
       "      <th></th>\n",
       "      <th></th>\n",
       "    </tr>\n",
       "  </thead>\n",
       "  <tbody>\n",
       "    <tr>\n",
       "      <th>1638407240</th>\n",
       "      <td>/actions/fib_c/invoke</td>\n",
       "      <td>0.000000</td>\n",
       "      <td>NaN</td>\n",
       "    </tr>\n",
       "    <tr>\n",
       "      <th>1638407241</th>\n",
       "      <td>/actions/fib_c/invoke</td>\n",
       "      <td>0.000000</td>\n",
       "      <td>NaN</td>\n",
       "    </tr>\n",
       "    <tr>\n",
       "      <th>1638407242</th>\n",
       "      <td>/actions/fib_c/invoke</td>\n",
       "      <td>0.000000</td>\n",
       "      <td>21.080350</td>\n",
       "    </tr>\n",
       "    <tr>\n",
       "      <th>1638407243</th>\n",
       "      <td>/actions/fib_c/invoke</td>\n",
       "      <td>0.500000</td>\n",
       "      <td>15.685060</td>\n",
       "    </tr>\n",
       "    <tr>\n",
       "      <th>1638407244</th>\n",
       "      <td>/actions/fib_c/invoke</td>\n",
       "      <td>0.666667</td>\n",
       "      <td>13.539929</td>\n",
       "    </tr>\n",
       "    <tr>\n",
       "      <th>...</th>\n",
       "      <td>...</td>\n",
       "      <td>...</td>\n",
       "      <td>...</td>\n",
       "    </tr>\n",
       "    <tr>\n",
       "      <th>1638407609</th>\n",
       "      <td>/actions/fib_c/invoke</td>\n",
       "      <td>1.100000</td>\n",
       "      <td>12.911453</td>\n",
       "    </tr>\n",
       "    <tr>\n",
       "      <th>1638407610</th>\n",
       "      <td>/actions/fib_c/invoke</td>\n",
       "      <td>1.100000</td>\n",
       "      <td>12.911453</td>\n",
       "    </tr>\n",
       "    <tr>\n",
       "      <th>1638407611</th>\n",
       "      <td>/actions/fib_c/invoke</td>\n",
       "      <td>1.100000</td>\n",
       "      <td>12.911453</td>\n",
       "    </tr>\n",
       "    <tr>\n",
       "      <th>1638407612</th>\n",
       "      <td>/actions/fib_c/invoke</td>\n",
       "      <td>1.100000</td>\n",
       "      <td>12.911453</td>\n",
       "    </tr>\n",
       "    <tr>\n",
       "      <th>1638407613</th>\n",
       "      <td>/actions/fib_c/invoke</td>\n",
       "      <td>1.100000</td>\n",
       "      <td>12.911453</td>\n",
       "    </tr>\n",
       "  </tbody>\n",
       "</table>\n",
       "<p>372 rows × 3 columns</p>\n",
       "</div>"
      ],
      "text/plain": [
       "                             Name  Requests/s  Total Average Response Time\n",
       "Timestamp                                                                 \n",
       "1638407240  /actions/fib_c/invoke    0.000000                          NaN\n",
       "1638407241  /actions/fib_c/invoke    0.000000                          NaN\n",
       "1638407242  /actions/fib_c/invoke    0.000000                    21.080350\n",
       "1638407243  /actions/fib_c/invoke    0.500000                    15.685060\n",
       "1638407244  /actions/fib_c/invoke    0.666667                    13.539929\n",
       "...                           ...         ...                          ...\n",
       "1638407609  /actions/fib_c/invoke    1.100000                    12.911453\n",
       "1638407610  /actions/fib_c/invoke    1.100000                    12.911453\n",
       "1638407611  /actions/fib_c/invoke    1.100000                    12.911453\n",
       "1638407612  /actions/fib_c/invoke    1.100000                    12.911453\n",
       "1638407613  /actions/fib_c/invoke    1.100000                    12.911453\n",
       "\n",
       "[372 rows x 3 columns]"
      ]
     },
     "execution_count": 61,
     "metadata": {},
     "output_type": "execute_result"
    }
   ],
   "source": [
    "d_c"
   ]
  },
  {
   "cell_type": "code",
   "execution_count": 62,
   "metadata": {},
   "outputs": [
    {
     "name": "stderr",
     "output_type": "stream",
     "text": [
      "<ipython-input-62-a2729a1a388b>:1: SettingWithCopyWarning: \n",
      "A value is trying to be set on a copy of a slice from a DataFrame\n",
      "\n",
      "See the caveats in the documentation: https://pandas.pydata.org/pandas-docs/stable/user_guide/indexing.html#returning-a-view-versus-a-copy\n",
      "  d_native.dropna(inplace=True)\n",
      "<ipython-input-62-a2729a1a388b>:2: SettingWithCopyWarning: \n",
      "A value is trying to be set on a copy of a slice from a DataFrame\n",
      "\n",
      "See the caveats in the documentation: https://pandas.pydata.org/pandas-docs/stable/user_guide/indexing.html#returning-a-view-versus-a-copy\n",
      "  d_c.dropna(inplace=True)\n"
     ]
    }
   ],
   "source": [
    "d_native.dropna(inplace=True)\n",
    "d_c.dropna(inplace=True)"
   ]
  },
  {
   "cell_type": "code",
   "execution_count": 64,
   "metadata": {},
   "outputs": [
    {
     "data": {
      "text/plain": [
       "<AxesSubplot:xlabel='Timestamp'>"
      ]
     },
     "execution_count": 64,
     "metadata": {},
     "output_type": "execute_result"
    },
    {
     "data": {
      "image/png": "[encoded data removed]",
      "text/plain": [
       "<Figure size 432x288 with 1 Axes>"
      ]
     },
     "metadata": {
      "needs_background": "light"
     },
     "output_type": "display_data"
    }
   ],
   "source": [
    "ax = d_native.plot(legend=True)\n",
    "d_c.plot(ax=ax)"
   ]
  },
  {
   "cell_type": "code",
   "execution_count": 66,
   "metadata": {},
   "outputs": [
    {
     "data": {
      "image/png": "[encoded data removed]",
      "text/plain": [
       "<Figure size 432x288 with 1 Axes>"
      ]
     },
     "metadata": {
      "needs_background": "light"
     },
     "output_type": "display_data"
    }
   ],
   "source": [
    "plt.plot(d_c['Total Average Response Time'], label='c')\n",
    "plt.plot(d_native['Total Average Response Time'], label='cnative')\n",
    "\n",
    "plt.legend(title='Implemetation')\n",
    "\n",
    "#add axes labels and a title\n",
    "plt.ylabel('Latency (ms)', fontsize=14)\n",
    "plt.xlabel('Time (s)', fontsize=14)\n",
    "plt.title('Small workload, 1 req/sec', fontsize=16)\n",
    "#display plot\n",
    "plt.show()"
   ]
  },
  {
   "cell_type": "code",
   "execution_count": null,
   "metadata": {},
   "outputs": [],
   "source": []
  }
 ],
 "metadata": {
  "kernelspec": {
   "display_name": "Python 3",
   "language": "python",
   "name": "python3"
  },
  "language_info": {
   "codemirror_mode": {
    "name": "ipython",
    "version": 3
   },
   "file_extension": ".py",
   "mimetype": "text/x-python",
   "name": "python",
   "nbconvert_exporter": "python",
   "pygments_lexer": "ipython3",
   "version": "3.8.10"
  }
 },
 "nbformat": 4,
 "nbformat_minor": 4
}
